{
  "nbformat": 4,
  "nbformat_minor": 0,
  "metadata": {
    "colab": {
      "provenance": [],
      "authorship_tag": "ABX9TyOsuAGDSRxwlFefuUsVg4K8",
      "include_colab_link": true
    },
    "kernelspec": {
      "name": "python3",
      "display_name": "Python 3"
    },
    "language_info": {
      "name": "python"
    }
  },
  "cells": [
    {
      "cell_type": "markdown",
      "metadata": {
        "id": "view-in-github",
        "colab_type": "text"
      },
      "source": [
        "<a href=\"https://colab.research.google.com/github/jaebooker/task_breakdown_swarm/blob/main/task_agent_swarm.ipynb\" target=\"_parent\"><img src=\"https://colab.research.google.com/assets/colab-badge.svg\" alt=\"Open In Colab\"/></a>"
      ]
    },
    {
      "cell_type": "code",
      "execution_count": null,
      "metadata": {
        "id": "e0JVge5VXnyO"
      },
      "outputs": [],
      "source": [
        "!pip install \"pyautogen[mathchat]~=0.1.1\"\n",
        "import autogen\n",
        "from autogen import AssistantAgent, UserProxyAgent\n",
        "from autogen import config_list_from_json\n",
        "\n",
        "# get API key\n",
        "config_list = config_list_from_json(env_or_file=\"OAI_CONFIG_LIST\")\n",
        "\n",
        "llm_config = {\n",
        "    \"config_list\": config_list,\n",
        "    \"seed\": 42, \"request_timeout\": 120,\n",
        "    \"temperature\": 0,\n",
        "        }\n",
        "\n",
        "\n",
        "user_input_agent = autogen.UserProxyAgent(\n",
        "   name=\"User_Input_Agent\",\n",
        "   system_message=\"I collect a work task from users.\",\n",
        "   code_execution_config={\"last_n_messages\": 2, \"work_dir\": \"groupchat\"},\n",
        "   human_input_mode=\"NEVER\"\n",
        ")\n",
        "\n",
        "# Desired Outcomes Agent\n",
        "outcomes_agent = autogen.AssistantAgent(\n",
        "    name=\"Outcomes_Agent\",\n",
        "    system_message=\"I create formal specifications of the Desired Outcomes for the work task given. I receive the input from the User Input Agent, and begin the formalization process, collaborating with the WBS agent.\",\n",
        "    llm_config=llm_config,\n",
        ")\n",
        "\n",
        "# WSB Agent\n",
        "wsb_agent = autogen.AssistantAgent(\n",
        "    name=\"WSB_Agent\",\n",
        "    system_message=\"I take the Desired Outcomes from the Outcomes Agent and create a Work Structure Breakdown for how to go about completing the task.\",\n",
        "    llm_config=llm_config,\n",
        ")\n",
        "\n",
        "# Verification Agent\n",
        "verification_agent = autogen.AssistantAgent(\n",
        "    name=\"Verification_Agent\",\n",
        "    system_message=\"I verify the correctness of the WSB Agent and ensure they are consistent with what the Desired Outcomes is asking for. If issues are found, I communicate them back to the WSB Agent for revisions.\",\n",
        "    llm_config=llm_config,\n",
        ")\n",
        "\n",
        "# Creating agent\n",
        "creator_agent = autogen.AssistantAgent(\n",
        "    name=\"Creator_Agent\",\n",
        "    system_message=\"Once it is verified by the Verification_Agent, I take the Work Structure Breakdown and execute the tasks given. If they are outside my abilities, I give them to user to implement themselves.\",\n",
        "    llm_config=llm_config,\n",
        ")\n",
        "\n",
        "# Define the Product Manager Agent\n",
        "product_manager = autogen.AssistantAgent(\n",
        "    name=\"Product_Manager\",\n",
        "    system_message=\"I oversee the process, coordinate between different agents, and ensure that the process stays aligned with the user’s original input\",\n",
        "    llm_config=llm_config,\n",
        ")\n",
        "\n",
        "groupchat = autogen.GroupChat(agents=[user_input_agent, outcomes_agent, wsb_agent, verification_agent, creator_agent, product_manager], messages=[], max_round=50)\n",
        "manager = autogen.GroupChatManager(groupchat=groupchat, llm_config=llm_config)\n",
        "\n",
        "user_input_agent.initiate_chat(manager, message=\"[insert task]\")\n"
      ]
    },
    {
      "cell_type": "code",
      "source": [],
      "metadata": {
        "id": "RDzLEeI2jb-s"
      },
      "execution_count": null,
      "outputs": []
    },
    {
      "cell_type": "markdown",
      "source": [
        "# New Section"
      ],
      "metadata": {
        "id": "gUvCJcNad3v1"
      }
    }
  ]
}